{
 "cells": [
  {
   "cell_type": "markdown",
   "id": "f2410bbe-cca3-4433-b0fd-c4fbe7dd41b5",
   "metadata": {
    "tags": []
   },
   "source": [
    "## Лабораторна #1\n",
    "### КА-22мп Зайцев О.В"
   ]
  },
  {
   "cell_type": "markdown",
   "id": "39ee0832-cd1e-4ac5-91e4-d5a44962f45c",
   "metadata": {
    "tags": []
   },
   "source": [
    "### Імпорти"
   ]
  },
  {
   "cell_type": "code",
   "execution_count": 1,
   "id": "5c35ecaa-7389-4502-bc0f-b22f15aedb57",
   "metadata": {},
   "outputs": [],
   "source": [
    "const { createHash } = require(\"crypto\");"
   ]
  },
  {
   "cell_type": "markdown",
   "id": "66fc06f9-3a5a-4165-abd1-e8340dd2886a",
   "metadata": {
    "tags": []
   },
   "source": [
    "### Допоміжні функції"
   ]
  },
  {
   "cell_type": "code",
   "execution_count": 2,
   "id": "56a704b1-3e09-42cc-ba09-bc20339e00e0",
   "metadata": {},
   "outputs": [],
   "source": [
    "// Хешування алгоритмом SHA-256\n",
    "const sha256 = (src) => createHash(\"sha256\").update(src).digest(\"hex\");\n",
    "\n",
    "// Два раунди хешування алгоритмом SHA-256\n",
    "const sha256d = (src) => {\n",
    "  const hashed = createHash(\"sha256\").update(src).digest();\n",
    "  return createHash(\"sha256\").update(hashed).digest(\"hex\");\n",
    "};\n",
    "\n",
    "const decToHex = (num, len) => Number(num).toString(16).padStart(len, \"0\");\n",
    "const switchEndianness = (hex) => hex.match(/../g).reverse().join(\"\");\n",
    "const getNonce = (prev) => {\n",
    "  return prev + Math.ceil(Math.random() * 100);\n",
    "};"
   ]
  },
  {
   "cell_type": "markdown",
   "id": "f2fbdf5d-6c95-435c-9361-a2c5ca76b53e",
   "metadata": {},
   "source": [
    "### Корінь Меркла"
   ]
  },
  {
   "cell_type": "code",
   "execution_count": 3,
   "id": "a4568cbc-5ac0-4dbc-8294-9268ffd67962",
   "metadata": {},
   "outputs": [],
   "source": [
    "const getMerkleRoot = (txs) => {\n",
    "  const hashed = txs.map((tx) => sha256d(tx));\n",
    "\n",
    "  const rec = (hashes) => {\n",
    "    if (hashes.length === 1) return hashes[0];\n",
    "    const pairs = hashes.reduce(\n",
    "      (acc, curr, idx) =>\n",
    "        !(idx % 2)\n",
    "          ? [...acc, [curr]]\n",
    "          : [...acc.slice(0, -1), [...acc[acc.length - 1], curr]],\n",
    "      []\n",
    "    );\n",
    "    return rec(\n",
    "      pairs.map((leaves) => leaves.join(\"\")).map((merged) => sha256d(merged))\n",
    "    );\n",
    "  };\n",
    "\n",
    "  return rec(hashed);\n",
    "};"
   ]
  },
  {
   "cell_type": "markdown",
   "id": "66d4a4d4-61e4-4d1d-b2ba-9f656fd75d26",
   "metadata": {},
   "source": [
    "### Цільова складність"
   ]
  },
  {
   "cell_type": "code",
   "execution_count": 4,
   "id": "c5b98f13-aa0f-4efe-9569-0f6a947e5cf4",
   "metadata": {},
   "outputs": [],
   "source": [
    "const getTarget = (bits) => {\n",
    "  const exp = parseInt(bits.substring(0, 2), 16);\n",
    "  const coef = parseInt(bits.substring(2), 16);\n",
    "  const target = coef * 2 ** (8 * (exp - 3));\n",
    "  return decToHex(target, 64);\n",
    "};"
   ]
  },
  {
   "cell_type": "markdown",
   "id": "ee8871b7-5aff-4e02-8802-e51d1a171992",
   "metadata": {},
   "source": [
    "### Заголовок блоку"
   ]
  },
  {
   "cell_type": "code",
   "execution_count": 7,
   "id": "07fbb4b1-eaf4-4c91-a153-62b1e8e8fb1a",
   "metadata": {},
   "outputs": [],
   "source": [
    "class BlockHeader {\n",
    "  #defaults = {\n",
    "    version: 1,\n",
    "    prevBlockHash: \"0\".repeat(64),\n",
    "    bits: \"1f00ffff\",\n",
    "    nonce: 0,\n",
    "    hash: null,\n",
    "  };\n",
    "  #block = null;\n",
    "\n",
    "  constructor(block, { version, prevBlockHash, bits, nonce, hash } = {}) {\n",
    "    this.version = version ?? this.#defaults.version;\n",
    "    this.prevBlockHash = prevBlockHash ?? this.#defaults.prevBlockHash;\n",
    "    this.nonce = nonce ?? this.#defaults.nonce;\n",
    "    this.bits = bits ?? this.#defaults.bits;\n",
    "    this.hash = hash ?? this.#defaults.hash;\n",
    "    this.timestamp = Math.round(Date.now() / 1000);\n",
    "    this.#block = block;\n",
    "  }\n",
    "\n",
    "  get merkleRoot() {\n",
    "    return getMerkleRoot(this.#block.txs);\n",
    "  }\n",
    "\n",
    "  mine() {\n",
    "    const target = getTarget(this.bits);\n",
    "    let nonce = this.nonce;\n",
    "    let iter = 0;\n",
    "    let found = false;\n",
    "    while (!found) {\n",
    "      const concatenated = [\n",
    "        decToHex(this.version, 8),\n",
    "        this.prevBlockHash,\n",
    "        this.merkleRoot,\n",
    "        decToHex(this.timestamp, 8),\n",
    "        this.bits,\n",
    "        decToHex(nonce, 8),\n",
    "      ]\n",
    "        .map((hex) => switchEndianness(hex))\n",
    "        .join(\"\");\n",
    "      const hashed = switchEndianness(sha256d(concatenated));\n",
    "      found = parseInt(hashed, 16) < parseInt(target, 16);\n",
    "      nonce = getNonce(nonce);\n",
    "      this.nonce = nonce;\n",
    "      this.hash = hashed;\n",
    "      iter += 1;\n",
    "    }\n",
    "  }\n",
    "\n",
    "  serialize() {\n",
    "    const { \n",
    "        version, \n",
    "        prevBlockHash, \n",
    "        nonce, \n",
    "        bits, \n",
    "        hash, \n",
    "        timestamp, \n",
    "        merkleRoot \n",
    "    } = this;\n",
    "    return {\n",
    "      version,\n",
    "      prevBlockHash,\n",
    "      nonce,\n",
    "      bits,\n",
    "      hash,\n",
    "      timestamp,\n",
    "      merkleRoot\n",
    "    };\n",
    "  }\n",
    "}"
   ]
  },
  {
   "cell_type": "markdown",
   "id": "da37cb2c-8ebd-4535-828e-06b7f24a0d8c",
   "metadata": {},
   "source": [
    "### Блок"
   ]
  },
  {
   "cell_type": "code",
   "execution_count": 8,
   "id": "a7596549-1e10-4754-a8c6-4e469fa6b61e",
   "metadata": {},
   "outputs": [],
   "source": [
    "class Block {\n",
    "  constructor({ height = 0, size = 1, txs = [], prevBlockHash, nonce } = {}) {\n",
    "    this.height = height;\n",
    "    this.size = size;\n",
    "    this.txs = txs;\n",
    "    this.header = new BlockHeader(this, { prevBlockHash, nonce });\n",
    "  }\n",
    "\n",
    "  get txCount() {\n",
    "    return this.txs.length;\n",
    "  }\n",
    "\n",
    "  mine() {\n",
    "    this.header.mine();\n",
    "  }\n",
    "\n",
    "  serialize() {\n",
    "    const { height, size, txs } = this;\n",
    "    return {\n",
    "      height,\n",
    "      size,\n",
    "      txs,\n",
    "      header: this.header.serialize(),\n",
    "    };\n",
    "  }\n",
    "}"
   ]
  },
  {
   "cell_type": "markdown",
   "id": "a717251f-ffff-4dd8-a0b0-ab34ee203126",
   "metadata": {},
   "source": [
    "### Ланцюг"
   ]
  },
  {
   "cell_type": "code",
   "execution_count": 9,
   "id": "5f0fb346-9183-4bb1-a34c-ce11f0c60a86",
   "metadata": {},
   "outputs": [],
   "source": [
    "class BlockChain {\n",
    "  constructor() {\n",
    "    this.chain = [new Block({ txs: [`Alex sent 0 coins to Alice`] })];\n",
    "  }\n",
    "\n",
    "  addBlock(prevBlockHash) {\n",
    "    const prevBlock = this.chain.find(\n",
    "        (block) => block.header.hash === prevBlockHash\n",
    "    );\n",
    "    const height = prevBlock.height + 1;\n",
    "    const block = new Block({\n",
    "      height,\n",
    "      prevBlockHash,\n",
    "      txs: [`Alex sent ${height} coins to Alice`],\n",
    "    });\n",
    "    this.chain.push(block);\n",
    "    return block;\n",
    "  }\n",
    "\n",
    "  get genesisBlock() {\n",
    "    return this.chain[0];\n",
    "  }\n",
    "\n",
    "  serialize() {\n",
    "    return this.chain.map((block) => block.serialize());\n",
    "  }\n",
    "}"
   ]
  },
  {
   "cell_type": "markdown",
   "id": "6d470f14-3834-4544-ac91-6eb4f2ffaf43",
   "metadata": {},
   "source": [
    "#### Створюємо екземпляр BlockChain, Genesis Block створиться за замовчуванням"
   ]
  },
  {
   "cell_type": "code",
   "execution_count": 10,
   "id": "ed9d7779-6e7d-42cb-967e-243fa943d54f",
   "metadata": {},
   "outputs": [],
   "source": [
    "const blockChain = new BlockChain();"
   ]
  },
  {
   "cell_type": "code",
   "execution_count": 11,
   "id": "44776e2a-5621-4266-aa28-e849a4a13955",
   "metadata": {},
   "outputs": [
    {
     "data": {
      "text/plain": [
       "{\n",
       "  height: 0,\n",
       "  size: 1,\n",
       "  txs: [ 'Alex sent 0 coins to Alice' ],\n",
       "  header: {\n",
       "    version: 1,\n",
       "    prevBlockHash: '0000000000000000000000000000000000000000000000000000000000000000',\n",
       "    nonce: 0,\n",
       "    bits: '1f00ffff',\n",
       "    hash: null,\n",
       "    timestamp: 1671839872,\n",
       "    merkleRoot: '1fba9b6b705d3981ec0914d97c3a4495654f41b53dcb6280ff8ac815f147e9f9'\n",
       "  }\n",
       "}"
      ]
     },
     "execution_count": 11,
     "metadata": {},
     "output_type": "execute_result"
    }
   ],
   "source": [
    "blockChain.genesisBlock.serialize();"
   ]
  },
  {
   "cell_type": "markdown",
   "id": "130d5c3c-4271-4d22-9765-2fc4fbaa367b",
   "metadata": {},
   "source": [
    "### Майнимо його"
   ]
  },
  {
   "cell_type": "code",
   "execution_count": 12,
   "id": "9d4d1751-d0a3-4cf2-be51-cadc2287090f",
   "metadata": {},
   "outputs": [],
   "source": [
    "blockChain.genesisBlock.mine();"
   ]
  },
  {
   "cell_type": "code",
   "execution_count": 13,
   "id": "69ffed64-f755-456a-82fc-eef83ca301ca",
   "metadata": {},
   "outputs": [
    {
     "data": {
      "text/plain": [
       "{\n",
       "  height: 0,\n",
       "  size: 1,\n",
       "  txs: [ 'Alex sent 0 coins to Alice' ],\n",
       "  header: {\n",
       "    version: 1,\n",
       "    prevBlockHash: '0000000000000000000000000000000000000000000000000000000000000000',\n",
       "    nonce: 394916,\n",
       "    bits: '1f00ffff',\n",
       "    hash: '0000cdd8c70a73fa96afca4c16ca3ae7b3faa4a3504681d9c892d2356eddcbd1',\n",
       "    timestamp: 1671839872,\n",
       "    merkleRoot: '1fba9b6b705d3981ec0914d97c3a4495654f41b53dcb6280ff8ac815f147e9f9'\n",
       "  }\n",
       "}"
      ]
     },
     "execution_count": 13,
     "metadata": {},
     "output_type": "execute_result"
    }
   ],
   "source": [
    "blockChain.genesisBlock.serialize();"
   ]
  },
  {
   "cell_type": "markdown",
   "id": "e5ac958a-30cc-4050-a86b-c9d347489480",
   "metadata": {},
   "source": [
    "### Створимо новий блок та замайнимо його"
   ]
  },
  {
   "cell_type": "code",
   "execution_count": 14,
   "id": "cbc20ed4-6145-440e-ac89-7d7835273593",
   "metadata": {},
   "outputs": [],
   "source": [
    "const block = blockChain.addBlock(blockChain.genesisBlock.header.hash);\n",
    "block.mine();"
   ]
  },
  {
   "cell_type": "markdown",
   "id": "a8357a12-80ba-4333-9ef5-9f5f28746485",
   "metadata": {},
   "source": [
    "### Отримана структура"
   ]
  },
  {
   "cell_type": "code",
   "execution_count": 15,
   "id": "96b94b97-ea00-4bc0-9d75-649f493f13ab",
   "metadata": {},
   "outputs": [
    {
     "data": {
      "text/plain": [
       "[\n",
       "  {\n",
       "    height: 0,\n",
       "    size: 1,\n",
       "    txs: [ 'Alex sent 0 coins to Alice' ],\n",
       "    header: {\n",
       "      version: 1,\n",
       "      prevBlockHash: '0000000000000000000000000000000000000000000000000000000000000000',\n",
       "      nonce: 394916,\n",
       "      bits: '1f00ffff',\n",
       "      hash: '0000cdd8c70a73fa96afca4c16ca3ae7b3faa4a3504681d9c892d2356eddcbd1',\n",
       "      timestamp: 1671839872,\n",
       "      merkleRoot: '1fba9b6b705d3981ec0914d97c3a4495654f41b53dcb6280ff8ac815f147e9f9'\n",
       "    }\n",
       "  },\n",
       "  {\n",
       "    height: 1,\n",
       "    size: 1,\n",
       "    txs: [ 'Alex sent 1 coins to Alice' ],\n",
       "    header: {\n",
       "      version: 1,\n",
       "      prevBlockHash: '0000cdd8c70a73fa96afca4c16ca3ae7b3faa4a3504681d9c892d2356eddcbd1',\n",
       "      nonce: 3132176,\n",
       "      bits: '1f00ffff',\n",
       "      hash: '0000d9e17f54c975761436d20359b2902b5348413808b7990f0c3bebcc5d1635',\n",
       "      timestamp: 1671839878,\n",
       "      merkleRoot: 'bc2ecb529ea9b96787c7fdb6c0fce2a5b3e6c72d4b516335ff32108ce2e364a5'\n",
       "    }\n",
       "  }\n",
       "]"
      ]
     },
     "execution_count": 15,
     "metadata": {},
     "output_type": "execute_result"
    }
   ],
   "source": [
    "blockChain.serialize();"
   ]
  },
  {
   "cell_type": "code",
   "execution_count": null,
   "id": "5a3720d6-f4ba-4a3f-8831-b418e2cc1f4c",
   "metadata": {},
   "outputs": [],
   "source": []
  }
 ],
 "metadata": {
  "kernelspec": {
   "display_name": "JavaScript (Node.js)",
   "language": "javascript",
   "name": "javascript"
  },
  "language_info": {
   "file_extension": ".js",
   "mimetype": "application/javascript",
   "name": "javascript",
   "version": "18.12.1"
  }
 },
 "nbformat": 4,
 "nbformat_minor": 5
}
